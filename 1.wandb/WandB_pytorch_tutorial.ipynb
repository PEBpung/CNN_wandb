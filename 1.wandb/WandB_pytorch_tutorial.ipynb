{
  "cells": [
    {
      "cell_type": "markdown",
      "metadata": {
        "id": "Cg1vp_Fe2nFJ"
      },
      "source": [
        "# 🚀 WandB 튜토리얼\n",
        "WandB 기초를 위한 튜토리얼 노트북입니다.  \n",
        "MNIST data를 활용하여 간단한 실습을 진행할 예정이며,  \n",
        "wandb watch와 log등 대시보드를 활용하기 위한 준비단계입니다.  \n",
        "자세한 내용은 [1. WandB란? - 강력한 MLOps Tool](https://pebpung.github.io/wandb/2021/10/06/WandB-1.html)를 참고하시면 됩니다. "
      ]
    },
    {
      "cell_type": "markdown",
      "metadata": {},
      "source": [
        "### 0️⃣ Step 0: W&B 설치 후 로그인\n",
        "WandB를 설치한 후 로그인을 합니다.  \n",
        "User setting -> API key -> copy & paste"
      ]
    },
    {
      "cell_type": "code",
      "execution_count": null,
      "metadata": {},
      "outputs": [],
      "source": [
        "%%capture\n",
        "!pip install wandb -qU"
      ]
    },
    {
      "cell_type": "code",
      "execution_count": null,
      "metadata": {},
      "outputs": [],
      "source": [
        "# Log in to your W&B account\n",
        "import wandb\n",
        "wandb.login()"
      ]
    },
    {
      "cell_type": "markdown",
      "metadata": {
        "id": "fstctcwBiSlH"
      },
      "source": [
        "### 2️⃣ Step 1: 모델 학습을 위한 준비\n",
        "이제 본격적으로 모델을 학습 시키기 전에 몇가지 준비를 하려고 합니다. \n",
        "1. 필요한 module import  \n",
        "2. hyper-parameter config 설정\n",
        "3. dataloader 정의\n",
        "4. model 정의"
      ]
    },
    {
      "cell_type": "markdown",
      "metadata": {},
      "source": [
        "### 1) 필요한 module import "
      ]
    },
    {
      "cell_type": "code",
      "execution_count": null,
      "metadata": {},
      "outputs": [],
      "source": [
        "import numpy as np\n",
        "import torch\n",
        "import torch.nn as nn\n",
        "from torchvision import datasets\n",
        "from torch.utils.data import DataLoader\n",
        "import torchvision.transforms as transforms\n",
        "from sklearn.metrics import accuracy_score\n",
        "from tqdm import tqdm"
      ]
    },
    {
      "cell_type": "markdown",
      "metadata": {
        "id": "GyjENuDR5I0J"
      },
      "source": [
        "### 2) hyper-parameter config 설정"
      ]
    },
    {
      "cell_type": "code",
      "execution_count": null,
      "metadata": {
        "id": "1lGXXFCXiTBN"
      },
      "outputs": [],
      "source": [
        "config  = {\n",
        "    'epochs': 5,\n",
        "    'classes':10,\n",
        "    'batch_size': 128,\n",
        "    'kernels': [16, 32],\n",
        "    'weight_decay': 0.0005,\n",
        "    'learning_rate': 1e-3,\n",
        "    'dataset': 'MNIST',\n",
        "    'architecture': 'CNN',\n",
        "    'val_evrey' : 5,\n",
        "    'seed': 42\n",
        "    }"
      ]
    },
    {
      "cell_type": "markdown",
      "metadata": {
        "id": "qgsDGEMY5VHi"
      },
      "source": [
        "### 3) dataloader 정의"
      ]
    },
    {
      "cell_type": "code",
      "execution_count": null,
      "metadata": {
        "id": "Dt1AWh2fxN48"
      },
      "outputs": [],
      "source": [
        "def make_loader(batch_size, train=True):\n",
        "    full_dataset = datasets.MNIST(root='./data/MNIST', train=train, \n",
        "                                    download=True,  transform=transforms.ToTensor())\n",
        "    \n",
        "    loader = DataLoader(dataset=full_dataset,\n",
        "                        batch_size=batch_size, \n",
        "                        shuffle=True,\n",
        "                        pin_memory=True, num_workers=2)\n",
        "    return loader"
      ]
    },
    {
      "cell_type": "markdown",
      "metadata": {
        "id": "E13Qs4Xc5ZGe"
      },
      "source": [
        "### 4) 모델 정의"
      ]
    },
    {
      "cell_type": "code",
      "execution_count": null,
      "metadata": {
        "id": "VI1Q0VoQxSUn"
      },
      "outputs": [],
      "source": [
        "class ConvNet(nn.Module):\n",
        "    def __init__(self, kernels, classes=10):\n",
        "        super(ConvNet, self).__init__()\n",
        "        \n",
        "        self.layer1 = nn.Sequential(\n",
        "            nn.Conv2d(1, kernels[0], kernel_size=5, stride=1, padding=2),\n",
        "            nn.ReLU(),\n",
        "            nn.MaxPool2d(kernel_size=2, stride=2))\n",
        "        self.layer2 = nn.Sequential(\n",
        "            nn.Conv2d(16, kernels[1], kernel_size=5, stride=1, padding=2),\n",
        "            nn.ReLU(),\n",
        "            nn.MaxPool2d(kernel_size=2, stride=2))\n",
        "        self.fc = nn.Linear(7 * 7 * kernels[-1], classes)\n",
        "        \n",
        "    def forward(self, x):\n",
        "        out = self.layer1(x)\n",
        "        out = self.layer2(out)\n",
        "        out = out.reshape(out.size(0), -1)\n",
        "        out = self.fc(out)\n",
        "        return out"
      ]
    },
    {
      "cell_type": "markdown",
      "metadata": {
        "id": "iB4v24cn2d8o"
      },
      "source": [
        "### 3️⃣ Step 3. `train`과  `valid` 함수 정의하기\n"
      ]
    },
    {
      "cell_type": "code",
      "execution_count": null,
      "metadata": {
        "id": "9Fz9rw8ExUez"
      },
      "outputs": [],
      "source": [
        "def train(model, loader, criterion, optimizer, device, config):\n",
        "    cumu_loss = 0\n",
        "    tqdm_loader = tqdm(loader)\n",
        "    for images, labels in tqdm_loader:\n",
        "        images, labels = images.to(device), labels.to(device)\n",
        "        logit = model(images)\n",
        "        loss = criterion(logit, labels)\n",
        "        cumu_loss += loss.item()\n",
        "        optimizer.zero_grad()\n",
        "        loss.backward()\n",
        "        optimizer.step()\n",
        "    return loss"
      ]
    },
    {
      "cell_type": "code",
      "execution_count": null,
      "metadata": {
        "id": "qk-YIDjlxXWK"
      },
      "outputs": [],
      "source": [
        "def valid(model,test_loader):\n",
        "    model.eval()\n",
        "    acc_list = []\n",
        "    with torch.no_grad():\n",
        "        tqdm_loader = tqdm(test_loader)\n",
        "        for images, labels in tqdm_loader:\n",
        "            logit = model(images)\n",
        "            pred = torch.argmax(logit, dim=1)\n",
        "            batch_acc = accuracy_score(labels, pred)\n",
        "            acc_list.append(batch_acc)\n",
        "    return sum(acc_list) / len(acc_list) "
      ]
    },
    {
      "cell_type": "markdown",
      "metadata": {
        "id": "76MuW0uc50QA"
      },
      "source": [
        "### 4️⃣  Step 4:   🏃‍♀️ WandB 실행하기\n",
        "- **wandb.watch**는 gradient, topology와 관련된 정보를 visualization 하기 위한 코드입니다.\n",
        "- **wandb.log**는 visualization 하고 싶은 정보를 넘겨줄 수 있습니다.\n",
        "\n",
        "이 두가지 코드를 활용해서 gradient와 parameter를 시각화할 수 있습니다.   \n",
        "wandb.watch는 모델을 선언한 후에 뒷부분에 위치 시켜줍니다.  \n",
        "wandb.log는 train, validation이 끝난 후 저장합니다. "
      ]
    },
    {
      "cell_type": "code",
      "execution_count": null,
      "metadata": {},
      "outputs": [],
      "source": [
        "def run(config=None):\n",
        "    wandb.init(project='test-pytorch', entity='pebpung', config=config)\n",
        "    config = wandb.config\n",
        "    device = \"cuda\" if torch.cuda.is_available() else \"cpu\"\n",
        "\n",
        "    train_loader = make_loader(batch_size=config.batch_size, train=True)\n",
        "    test_loader = make_loader(batch_size=config.batch_size, train=False)\n",
        "\n",
        "    model = ConvNet(config.kernels, config.classes).to(device)\n",
        "    criterion = nn.CrossEntropyLoss()\n",
        "    optimizer = torch.optim.Adam(model.parameters(), lr=config.learning_rate)\n",
        "    wandb.watch(model, criterion, log=\"all\", log_freq=10)\n",
        "\n",
        "    for epoch in range(1, config.epochs):\n",
        "        loss = train(model, train_loader, criterion, optimizer, device, config)\n",
        "        print(f\"[Train] Epoch {epoch:02} | Loss: {loss:.2f}\")\n",
        "        wandb.log({\"Loss\": loss})\n",
        "        if epoch % config.val_evrey  == 0:\n",
        "            acc = valid(model, test_loader)\n",
        "            print(f\"[Vaild] Epoch {epoch:02} | Acc: {acc:.3f}\")\n",
        "            wandb.log({\"Acc\": acc})\n",
        "    return model"
      ]
    },
    {
      "cell_type": "code",
      "execution_count": null,
      "metadata": {
        "id": "kOSFlQBd5vJN"
      },
      "outputs": [],
      "source": [
        "model = run(config)"
      ]
    }
  ],
  "metadata": {
    "colab": {
      "include_colab_link": true,
      "name": "WandB_pytorch_tutorial.ipynb",
      "private_outputs": true,
      "provenance": []
    },
    "kernelspec": {
      "display_name": "Python 3.9.13 ('5.bentoml-2T2xV6ZA')",
      "language": "python",
      "name": "python3"
    },
    "language_info": {
      "codemirror_mode": {
        "name": "ipython",
        "version": 3
      },
      "file_extension": ".py",
      "mimetype": "text/x-python",
      "name": "python",
      "nbconvert_exporter": "python",
      "pygments_lexer": "ipython3",
      "version": "3.9.13"
    },
    "vscode": {
      "interpreter": {
        "hash": "b28c6de8df35bb8c83606998fb4930103cbea5fd872eb373a1fa0585d6aecf6d"
      }
    }
  },
  "nbformat": 4,
  "nbformat_minor": 0
}
