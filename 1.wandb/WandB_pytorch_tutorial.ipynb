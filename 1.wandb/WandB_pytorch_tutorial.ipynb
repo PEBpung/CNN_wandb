{
  "cells": [
    {
      "cell_type": "markdown",
      "metadata": {
        "colab_type": "text",
        "id": "view-in-github"
      },
      "source": [
        "<a href=\"https://colab.research.google.com/github/PEBpung/CNN_wandb/blob/master/WandB_pytorch_tutorial.ipynb\" target=\"_parent\"><img src=\"https://colab.research.google.com/assets/colab-badge.svg\" alt=\"Open In Colab\"/></a>"
      ]
    },
    {
      "cell_type": "markdown",
      "metadata": {
        "id": "Cg1vp_Fe2nFJ"
      },
      "source": [
        "# 🚀 Install, Import, and Log In"
      ]
    },
    {
      "cell_type": "code",
      "execution_count": 1,
      "metadata": {
        "id": "bcFEvH5vhlYw"
      },
      "outputs": [],
      "source": [
        "import numpy as np\n",
        "import torch\n",
        "import torch.nn as nn\n",
        "from torchvision import datasets\n",
        "from torch.utils.data import DataLoader\n",
        "import torchvision.transforms as transforms\n",
        "from tqdm.notebook import tqdm\n",
        "\n",
        "device = \"cuda\" if torch.cuda.is_available() else \"cpu\""
      ]
    },
    {
      "cell_type": "markdown",
      "metadata": {
        "id": "ysRzZ5lGh7t5"
      },
      "source": [
        "### 0️⃣ Step 0: W&B 설치하기\n",
        "colab에서 WandB를 사용하려면 wandb modul을 install 해야합니다."
      ]
    },
    {
      "cell_type": "code",
      "execution_count": 2,
      "metadata": {
        "id": "8mVVE8w1h8Jc"
      },
      "outputs": [],
      "source": [
        "%%capture\n",
        "!pip install wandb --upgrade"
      ]
    },
    {
      "cell_type": "markdown",
      "metadata": {
        "id": "ipp9aA2piG-g"
      },
      "source": [
        "### 1️⃣ Step 1: W&B 로그인\n",
        "\n",
        "WandB의 web 서비스를 이용하기 위해선 log in이 필요합니다."
      ]
    },
    {
      "cell_type": "code",
      "execution_count": 3,
      "metadata": {
        "id": "ovzfhTdSiJLI"
      },
      "outputs": [
        {
          "name": "stderr",
          "output_type": "stream",
          "text": [
            "Failed to detect the name of this notebook, you can set it manually with the WANDB_NOTEBOOK_NAME environment variable to enable code saving.\n",
            "\u001b[34m\u001b[1mwandb\u001b[0m: Currently logged in as: \u001b[33masdqwdasdqwdzxcxzv\u001b[0m (use `wandb login --relogin` to force relogin)\n"
          ]
        },
        {
          "data": {
            "text/plain": [
              "True"
            ]
          },
          "execution_count": 3,
          "metadata": {},
          "output_type": "execute_result"
        }
      ],
      "source": [
        "import wandb\n",
        "\n",
        "wandb.login()"
      ]
    },
    {
      "cell_type": "markdown",
      "metadata": {
        "id": "fstctcwBiSlH"
      },
      "source": [
        "### 2️⃣ Step 2: config 설정 후 `wandb.init` 정의\n",
        "이제 본격적으로 모델을 학습 시키기 전에 몇가지 준비를 하려고 합니다.  \n",
        "1. hyper-parameter config 설정\n",
        "2. dataloader 정의\n",
        "3. model 정의"
      ]
    },
    {
      "cell_type": "markdown",
      "metadata": {
        "id": "GyjENuDR5I0J"
      },
      "source": [
        "### 1) config 설정"
      ]
    },
    {
      "cell_type": "code",
      "execution_count": 15,
      "metadata": {
        "id": "1lGXXFCXiTBN"
      },
      "outputs": [],
      "source": [
        "config  = {\n",
        "    'epochs': 5,\n",
        "    'classes':10,\n",
        "    'batch_size': 128,\n",
        "    'kernels': [16, 32],\n",
        "    'weight_decay': 0.0005,\n",
        "    'learning_rate': 1e-3,\n",
        "    'dataset': 'MNIST',\n",
        "    'architecture': 'CNN',\n",
        "    'seed': 42\n",
        "    }"
      ]
    },
    {
      "cell_type": "markdown",
      "metadata": {
        "id": "qgsDGEMY5VHi"
      },
      "source": [
        "### 2) dataloader 정의"
      ]
    },
    {
      "cell_type": "code",
      "execution_count": 16,
      "metadata": {
        "id": "Dt1AWh2fxN48"
      },
      "outputs": [],
      "source": [
        "def make_loader(batch_size, train=True):\n",
        "    full_dataset = datasets.MNIST(root='./data/MNIST', train=train, \n",
        "                                    download=True,  transform=transforms.ToTensor())\n",
        "    \n",
        "    loader = DataLoader(dataset=full_dataset,\n",
        "                        batch_size=batch_size, \n",
        "                        shuffle=True,\n",
        "                        pin_memory=True, num_workers=2)\n",
        "    return loader"
      ]
    },
    {
      "cell_type": "markdown",
      "metadata": {
        "id": "E13Qs4Xc5ZGe"
      },
      "source": [
        "### 3) 모델 정의"
      ]
    },
    {
      "cell_type": "code",
      "execution_count": 28,
      "metadata": {
        "id": "VI1Q0VoQxSUn"
      },
      "outputs": [],
      "source": [
        "class ConvNet(nn.Module):\n",
        "    def __init__(self, kernels, classes=10):\n",
        "        super(ConvNet, self).__init__()\n",
        "        \n",
        "        self.layer1 = nn.Sequential(\n",
        "            nn.Conv2d(1, kernels[0], kernel_size=5, stride=1, padding=2),\n",
        "            nn.ReLU(),\n",
        "            nn.MaxPool2d(kernel_size=2, stride=2))\n",
        "        self.layer2 = nn.Sequential(\n",
        "            nn.Conv2d(16, kernels[1], kernel_size=5, stride=1, padding=2),\n",
        "            nn.ReLU(),\n",
        "            nn.MaxPool2d(kernel_size=2, stride=2))\n",
        "        self.fc = nn.Linear(7 * 7 * kernels[-1], classes)\n",
        "        \n",
        "    def forward(self, x):\n",
        "        out = self.layer1(x)\n",
        "        out = self.layer2(out)\n",
        "        out = out.reshape(out.size(0), -1)\n",
        "        out = self.fc(out)\n",
        "        return out"
      ]
    },
    {
      "cell_type": "markdown",
      "metadata": {
        "id": "iB4v24cn2d8o"
      },
      "source": [
        "### 3️⃣ Step 3. `wandb.watch`와 `wandb.log`를 사용해서 gradients 추적하기\n",
        "- **wandb.watch**는 gradient, topology와 관련된 정보를 visualization 하기 위한 코드입니다.\n",
        "- **wandb.log**는 visualization 하고 싶은 정보를 넘겨줄 수 있습니다.\n",
        "\n",
        "이 두가지 코드를 활용해서 gradient와 parameter를 시각화할 수 있습니다.   \n",
        "wandb.watch는 학습하기 전 train의 앞부분에 위치 시켜줍니다.  \n",
        "wandb.log는 학습 log를 출력하기 바로 전에 metric과 epoch을 입력합니다."
      ]
    },
    {
      "cell_type": "code",
      "execution_count": 29,
      "metadata": {
        "id": "9Fz9rw8ExUez"
      },
      "outputs": [],
      "source": [
        "def train(model, loader, criterion, optimizer, config):\n",
        "    wandb.watch(model, criterion, log=\"all\", log_freq=10)\n",
        "\n",
        "    example_ct = 0  \n",
        "    for epoch in tqdm(range(config.epochs)):\n",
        "        cumu_loss = 0\n",
        "        for images, labels in loader:\n",
        "\n",
        "            images, labels = images.to(device), labels.to(device)\n",
        "    \n",
        "            outputs = model(images)\n",
        "            loss = criterion(outputs, labels)\n",
        "            cumu_loss += loss.item()\n",
        "            \n",
        "            optimizer.zero_grad()\n",
        "            loss.backward()\n",
        "\n",
        "            optimizer.step()\n",
        "\n",
        "            example_ct +=  len(images)\n",
        "\n",
        "        avg_loss = cumu_loss / len(loader)\n",
        "        wandb.log({\"loss\": avg_loss}, step=epoch)\n",
        "        print(f\"TRAIN: EPOCH {epoch + 1:04d} / {config.epochs:04d} | Epoch LOSS {avg_loss:.4f}\")"
      ]
    },
    {
      "cell_type": "markdown",
      "metadata": {
        "id": "4wCbKrfA2hv4"
      },
      "source": [
        "### 4️⃣ Optional Step 4:  `wandb.save`로 저장하기"
      ]
    },
    {
      "cell_type": "code",
      "execution_count": 30,
      "metadata": {
        "id": "qk-YIDjlxXWK"
      },
      "outputs": [],
      "source": [
        "def test(model, test_loader):\n",
        "    model.eval()\n",
        "\n",
        "    with torch.no_grad():\n",
        "        correct, total = 0, 0\n",
        "        for images, labels in test_loader:\n",
        "            images, labels = images.to(device), labels.to(device)\n",
        "\n",
        "            outputs = model(images)\n",
        "            pred = outputs.max(1, keepdim = True)[1]                                       \n",
        "            correct += pred.eq(labels.view_as(pred)).sum().item() \n",
        "\n",
        "            total = len(test_loader.dataset)\n",
        "\n",
        "        print(f\"Accuracy of the model on the {total} \" +\n",
        "              f\"test images: {100 * correct / total}%\")\n",
        "        \n",
        "        wandb.log({\"test_accuracy\": correct / total})\n",
        "\n",
        "    # Save the model in the exchangeable ONNX format\n",
        "    torch.onnx.export(model, images, \"model.onnx\")\n",
        "    wandb.save(\"model.onnx\")"
      ]
    },
    {
      "cell_type": "markdown",
      "metadata": {
        "id": "76MuW0uc50QA"
      },
      "source": [
        "## 🏃‍♀️ WandB 실행하기"
      ]
    },
    {
      "cell_type": "code",
      "execution_count": 31,
      "metadata": {},
      "outputs": [],
      "source": [
        "def run(config=None):\n",
        "    wandb.init(project='test-pytorch', entity='pebpung', config=config)\n",
        "      \n",
        "    config = wandb.config\n",
        "\n",
        "    train_loader = make_loader(batch_size=config.batch_size, train=True)\n",
        "    test_loader = make_loader(batch_size=config.batch_size, train=False)\n",
        "\n",
        "    model = ConvNet(config.kernels, config.classes).to(device)\n",
        "    criterion = nn.CrossEntropyLoss()\n",
        "    optimizer = torch.optim.Adam(model.parameters(), lr=config.learning_rate)\n",
        "\n",
        "    train(model, train_loader, criterion, optimizer, config)\n",
        "    test(model, test_loader)\n",
        "    return model"
      ]
    },
    {
      "cell_type": "code",
      "execution_count": 32,
      "metadata": {
        "id": "kOSFlQBd5vJN"
      },
      "outputs": [
        {
          "data": {
            "text/html": [
              "Finishing last run (ID:2a9br22w) before initializing another..."
            ],
            "text/plain": [
              "<IPython.core.display.HTML object>"
            ]
          },
          "metadata": {},
          "output_type": "display_data"
        },
        {
          "data": {
            "text/html": [
              "<br/>Waiting for W&B process to finish, PID 8396... <strong style=\"color:green\">(success).</strong>"
            ],
            "text/plain": [
              "<IPython.core.display.HTML object>"
            ]
          },
          "metadata": {},
          "output_type": "display_data"
        },
        {
          "data": {
            "application/vnd.jupyter.widget-view+json": {
              "model_id": "9a20dfd9ad27461f918b20a0beda70f6",
              "version_major": 2,
              "version_minor": 0
            },
            "text/plain": [
              "VBox(children=(Label(value=' 0.11MB of 0.11MB uploaded (0.00MB deduped)\\r'), FloatProgress(value=1.0, max=1.0)…"
            ]
          },
          "metadata": {},
          "output_type": "display_data"
        },
        {
          "data": {
            "text/html": [
              "<style>\n",
              "    table.wandb td:nth-child(1) { padding: 0 10px; text-align: right }\n",
              "    .wandb-row { display: flex; flex-direction: row; flex-wrap: wrap; width: 100% }\n",
              "    .wandb-col { display: flex; flex-direction: column; flex-basis: 100%; flex: 1; padding: 10px; }\n",
              "    </style>\n",
              "<div class=\"wandb-row\"><div class=\"wandb-col\">\n",
              "<h3>Run history:</h3><br/><table class=\"wandb\"><tr><td>epoch</td><td>▁▁▁▁▁▁▁▁▃▃▃▃▃▃▃▃▅▅▅▅▅▅▅▅▆▆▆▆▆▆▆▆████████</td></tr><tr><td>loss</td><td>█▃▃▂▃▂▃▄▂▂▂▂▂▂▂▂▁▂▁▁▁▁▂▂▁▁▁▁▁▁▁▁▁▁▁▁▁▁▁▁</td></tr><tr><td>test_accuracy</td><td>▁</td></tr></table><br/></div><div class=\"wandb-col\">\n",
              "<h3>Run summary:</h3><br/><table class=\"wandb\"><tr><td>epoch</td><td>4</td></tr><tr><td>loss</td><td>0.03358</td></tr><tr><td>test_accuracy</td><td>0.9886</td></tr></table>\n",
              "</div></div>\n",
              "Synced 6 W&B file(s), 0 media file(s), 0 artifact file(s) and 1 other file(s)\n",
              "<br/>Synced <strong style=\"color:#cdcd00\">warm-moon-13</strong>: <a href=\"https://wandb.ai/pebpung/test-pytorch/runs/2a9br22w\" target=\"_blank\">https://wandb.ai/pebpung/test-pytorch/runs/2a9br22w</a><br/>\n",
              "Find logs at: <code>./wandb/run-20211103_103003-2a9br22w/logs</code><br/>\n"
            ],
            "text/plain": [
              "<IPython.core.display.HTML object>"
            ]
          },
          "metadata": {},
          "output_type": "display_data"
        },
        {
          "data": {
            "text/html": [
              "Successfully finished last run (ID:2a9br22w). Initializing new run:<br/>"
            ],
            "text/plain": [
              "<IPython.core.display.HTML object>"
            ]
          },
          "metadata": {},
          "output_type": "display_data"
        },
        {
          "data": {
            "text/html": [
              "\n",
              "                    Syncing run <strong><a href=\"https://wandb.ai/pebpung/test-pytorch/runs/2fygnwjw\" target=\"_blank\">kind-voice-14</a></strong> to <a href=\"https://wandb.ai/pebpung/test-pytorch\" target=\"_blank\">Weights & Biases</a> (<a href=\"https://docs.wandb.com/integrations/jupyter.html\" target=\"_blank\">docs</a>).<br/>\n",
              "\n",
              "                "
            ],
            "text/plain": [
              "<IPython.core.display.HTML object>"
            ]
          },
          "metadata": {},
          "output_type": "display_data"
        },
        {
          "data": {
            "application/vnd.jupyter.widget-view+json": {
              "model_id": "791bf177ffd343c7ae8127367478b9a8",
              "version_major": 2,
              "version_minor": 0
            },
            "text/plain": [
              "  0%|          | 0/5 [00:00<?, ?it/s]"
            ]
          },
          "metadata": {},
          "output_type": "display_data"
        },
        {
          "name": "stdout",
          "output_type": "stream",
          "text": [
            "TRAIN: EPOCH 0001 / 0005 | Epoch LOSS 0.2709\n",
            "TRAIN: EPOCH 0002 / 0005 | Epoch LOSS 0.0666\n",
            "TRAIN: EPOCH 0003 / 0005 | Epoch LOSS 0.0487\n",
            "TRAIN: EPOCH 0004 / 0005 | Epoch LOSS 0.0387\n",
            "TRAIN: EPOCH 0005 / 0005 | Epoch LOSS 0.0326\n",
            "Accuracy of the model on the 10000 test images: 99.05%\n"
          ]
        }
      ],
      "source": [
        "model = run(config)"
      ]
    },
    {
      "cell_type": "code",
      "execution_count": null,
      "metadata": {},
      "outputs": [],
      "source": []
    }
  ],
  "metadata": {
    "colab": {
      "include_colab_link": true,
      "name": "WandB_pytorch_tutorial.ipynb",
      "private_outputs": true,
      "provenance": []
    },
    "interpreter": {
      "hash": "8e5e08de07fba0fb72df28d1d02d73caaafb877a45fd93aa5b25ed7e0e8c6fec"
    },
    "kernelspec": {
      "display_name": "Python 3.8.0 64-bit ('torch': conda)",
      "name": "python3"
    },
    "language_info": {
      "codemirror_mode": {
        "name": "ipython",
        "version": 3
      },
      "file_extension": ".py",
      "mimetype": "text/x-python",
      "name": "python",
      "nbconvert_exporter": "python",
      "pygments_lexer": "ipython3",
      "version": "3.8.0"
    }
  },
  "nbformat": 4,
  "nbformat_minor": 0
}
