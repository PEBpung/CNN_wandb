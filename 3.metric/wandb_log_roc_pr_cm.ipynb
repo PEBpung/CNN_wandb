{
  "nbformat": 4,
  "nbformat_minor": 0,
  "metadata": {
    "colab": {
      "name": "W&B에서 다양한 metric 기록하기.ipynb",
      "private_outputs": true,
      "provenance": [],
      "collapsed_sections": []
    },
    "kernelspec": {
      "name": "python3",
      "display_name": "Python 3"
    }
  },
  "cells": [
    {
      "cell_type": "markdown",
      "metadata": {
        "id": "SGLLvOc6GzhZ"
      },
      "source": [
        "# 🚀 프로젝트 개요\n",
        "이번에는 WandB를 사용해서 precision recall과 ROC curves 그리고 confusion matricse 기록하는 실습을 할 예정입니다.  \n",
        "아이리스 데이터를 이용할 예정이고 사용 모델로는 sklearn의 Naive Bayes 분류기인 CategoricalNB을 사용합니다."
      ]
    },
    {
      "cell_type": "markdown",
      "metadata": {
        "id": "jv9v3N6rzJbH"
      },
      "source": [
        "### 0️⃣ 필요 모듈 설치 후 import"
      ]
    },
    {
      "cell_type": "code",
      "metadata": {
        "id": "Lh1H9vHVHnHi"
      },
      "source": [
        "!pip install --upgrade wandb -qq"
      ],
      "execution_count": null,
      "outputs": []
    },
    {
      "cell_type": "code",
      "metadata": {
        "id": "GwEBJaUPGuQt"
      },
      "source": [
        "import matplotlib.pyplot as plt\n",
        "import pandas as pd\n",
        "import numpy as np\n",
        "\n",
        "from sklearn.datasets import load_iris\n",
        "from sklearn.metrics import confusion_matrix\n",
        "from sklearn.model_selection import train_test_split\n",
        "from sklearn.metrics import classification_report\n",
        "from sklearn.metrics import roc_curve, roc_auc_score\n",
        "from sklearn.naive_bayes import GaussianNB, CategoricalNB\n",
        "\n",
        "import wandb\n",
        "wandb.init(project=\"vega-plots\")"
      ],
      "execution_count": null,
      "outputs": []
    },
    {
      "cell_type": "markdown",
      "metadata": {
        "id": "7Q6sphzqzRXZ"
      },
      "source": [
        "### 1️⃣ 데이터 준비 후 모델 학습"
      ]
    },
    {
      "cell_type": "code",
      "metadata": {
        "id": "9NYYAs4xTndD"
      },
      "source": [
        "# 데이터 준비\n",
        "iris = load_iris()\n",
        "iris_data = iris.data\n",
        "iris_label = iris.target\n",
        "\n",
        "# train, test 데이터 분리\n",
        "X_train, X_test, y_train, y_test = train_test_split(iris_data, \n",
        "                                                    iris_label, \n",
        "                                                    test_size=0.3, \n",
        "                                                    random_state=7)\n",
        "\n",
        "# 모델 학습\n",
        "cnb  = CategoricalNB()\n",
        "cnb .fit(X_train, y_train)\n",
        "\n",
        "# 데이터 예측\n",
        "y_pred = cnb .predict(X_test)\n",
        "y_prob_pred = cnb .predict_proba(X_test)\n",
        "\n",
        "#roc auc score 추출\n",
        "roc_auc_score(y_test, y_prob_pred, multi_class='ovo', average='weighted')"
      ],
      "execution_count": null,
      "outputs": []
    },
    {
      "cell_type": "markdown",
      "metadata": {
        "id": "qMu_fzOnzZTu"
      },
      "source": [
        "### 2️⃣ ROC curve 시각화 해보기"
      ]
    },
    {
      "cell_type": "code",
      "metadata": {
        "id": "3807celcUfqb"
      },
      "source": [
        "# roc curve for classes\n",
        "fpr = {}\n",
        "tpr = {}\n",
        "thresh ={}\n",
        "\n",
        "n_class = 3\n",
        "\n",
        "for i in range(n_class):    \n",
        "    fpr[i], tpr[i], thresh[i] = roc_curve(y_test, y_prob_pred[:,i], pos_label=i)\n",
        "    \n",
        "# plotting    \n",
        "plt.plot(fpr[0], tpr[0], linestyle='--',color='orange', label='Class 0 vs Rest')\n",
        "plt.plot(fpr[1], tpr[1], linestyle='--',color='green', label='Class 1 vs Rest')\n",
        "plt.plot(fpr[2], tpr[2], linestyle='--',color='blue', label='Class 2 vs Rest')\n",
        "plt.title('Multiclass ROC curve')\n",
        "plt.xlabel('False Positive Rate')\n",
        "plt.ylabel('True Positive rate')\n",
        "plt.legend(loc='best')\n",
        "plt.savefig('Multiclass ROC',dpi=300);  "
      ],
      "execution_count": null,
      "outputs": []
    },
    {
      "cell_type": "markdown",
      "metadata": {
        "id": "DoUF33VBHs4O"
      },
      "source": [
        "### 3️⃣ Weights & Biases를 이용해서 그래프 기록하기"
      ]
    },
    {
      "cell_type": "code",
      "metadata": {
        "id": "yvf2DoKtHrcY"
      },
      "source": [
        "# ROC\n",
        "wandb.log({'roc': wandb.plots.ROC(y_test, y_prob_pred, cnb.classes_)})\n",
        "\n",
        "# Precision Recall\n",
        "wandb.log({'pr': wandb.plots.precision_recall(y_test, y_prob_pred, cnb.classes_)})\n",
        "\n",
        "# Learning Curve\n",
        "wandb.sklearn.plot_learning_curve(cnb, X_test, y_test)\n",
        "\n",
        "# Confusion Matrix\n",
        "wandb.sklearn.plot_confusion_matrix(y_test, y_pred, labels=cnb.classes_)"
      ],
      "execution_count": null,
      "outputs": []
    },
    {
      "cell_type": "markdown",
      "metadata": {
        "id": "auC_xnRSDxmE"
      },
      "source": [
        "### 4️⃣ Weights & Biases를 이용해서 히트맵 기록하기"
      ]
    },
    {
      "cell_type": "code",
      "metadata": {
        "id": "S1bD-hPgH2b3"
      },
      "source": [
        "wandb.init(project=\"vega-plots\", name=\"Heatmap\")\n",
        "\n",
        "matrix_values = np.random.rand(3, 3)\n",
        "x_labels=['seto', 'vers', 'virg']\n",
        "y_labels=['SETO', 'VERS', 'VIRG']\n",
        "wandb.log({'heatmap_with_text': wandb.plots.HeatMap(x_labels, y_labels, matrix_values, show_text=True)})\n",
        "wandb.log({'heatmap_no_text': wandb.plots.HeatMap(x_labels, y_labels, matrix_values, show_text=False)})\n"
      ],
      "execution_count": null,
      "outputs": []
    }
  ]
}